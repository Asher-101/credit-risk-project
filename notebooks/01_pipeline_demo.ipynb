{
 "cells": [
  {
   "cell_type": "markdown",
   "id": "9ecfe304",
   "metadata": {},
   "source": [
    "#### Cells and import"
   ]
  },
  {
   "cell_type": "code",
   "execution_count": 1,
   "id": "5b7444c7",
   "metadata": {},
   "outputs": [
    {
     "name": "stdout",
     "output_type": "stream",
     "text": [
      "Loaded 5 rows and 6 columns from /Users/glennasher/credit-risk-project/data/raw/borrowers.csv\n",
      "Dropped 0 duplicate rows\n",
      "Filled missing 'employment_length' with median=7.0\n",
      "Filled missing 'age' with median=45.0\n",
      "Filled missing 'annual_income' with median=60000.0\n",
      "Clipped 'debt_to_income' to [0,1]\n",
      "One-hot encoded columns: ['emp_bin', 'age_bin']\n",
      "Cleaned data has 5 rows and 16 columns\n"
     ]
    }
   ],
   "source": [
    "from pathlib import Path\n",
    "\n",
    "from credit_risk.data_ingest import load_data, clean_data\n",
    "from credit_risk.features import generate_features\n",
    "\n",
    "# notebook cwd is .../credit-risk-project/notebooks\n",
    "notebook_path = Path.cwd()\n",
    "\n",
    "# project_root is one level up\n",
    "project_root = notebook_path.parent\n",
    "\n",
    "raw_csv = project_root / \"data\" / \"raw\" / \"borrowers.csv\"\n",
    "\n",
    "df_raw = load_data(raw_csv)\n",
    "df_clean = clean_data(df_raw)"
   ]
  },
  {
   "cell_type": "markdown",
   "id": "f946e914",
   "metadata": {},
   "source": [
    "#### Feature generation"
   ]
  },
  {
   "cell_type": "code",
   "execution_count": 2,
   "id": "fa037996",
   "metadata": {},
   "outputs": [
    {
     "name": "stdout",
     "output_type": "stream",
     "text": [
      "Feature generation complete: 3 training samples, 2 test samples\n",
      "Scaled numeric columns: ['annual_income', 'employment_length', 'credit_score', 'age', 'debt_to_income', 'dti_pct']\n",
      "Stratification: on\n"
     ]
    }
   ],
   "source": [
    "x_train, x_test, y_test, y_train = generate_features(\n",
    "    df_clean,\n",
    "    target_col = 'default',\n",
    "    test_size = 0.4,\n",
    "    random_state = 42,\n",
    ")"
   ]
  },
  {
   "cell_type": "markdown",
   "id": "9a1936bf",
   "metadata": {},
   "source": [
    "#### Inspect outputs"
   ]
  },
  {
   "cell_type": "code",
   "execution_count": 3,
   "id": "98f7b0e8",
   "metadata": {},
   "outputs": [
    {
     "name": "stdout",
     "output_type": "stream",
     "text": [
      "Train shape: (3, 15)\n",
      "Test shape: (2, 15)\n"
     ]
    },
    {
     "data": {
      "text/html": [
       "<div>\n",
       "<style scoped>\n",
       "    .dataframe tbody tr th:only-of-type {\n",
       "        vertical-align: middle;\n",
       "    }\n",
       "\n",
       "    .dataframe tbody tr th {\n",
       "        vertical-align: top;\n",
       "    }\n",
       "\n",
       "    .dataframe thead th {\n",
       "        text-align: right;\n",
       "    }\n",
       "</style>\n",
       "<table border=\"1\" class=\"dataframe\">\n",
       "  <thead>\n",
       "    <tr style=\"text-align: right;\">\n",
       "      <th></th>\n",
       "      <th>annual_income</th>\n",
       "      <th>employment_length</th>\n",
       "      <th>credit_score</th>\n",
       "      <th>age</th>\n",
       "      <th>debt_to_income</th>\n",
       "      <th>dti_pct</th>\n",
       "      <th>emp_bin_1-5</th>\n",
       "      <th>emp_bin_5-10</th>\n",
       "      <th>emp_bin_10-20</th>\n",
       "      <th>emp_bin_20+</th>\n",
       "      <th>age_bin_25-34</th>\n",
       "      <th>age_bin_35-44</th>\n",
       "      <th>age_bin_45-54</th>\n",
       "      <th>age_bin_55-64</th>\n",
       "      <th>age_bin_65+</th>\n",
       "    </tr>\n",
       "  </thead>\n",
       "  <tbody>\n",
       "    <tr>\n",
       "      <th>2</th>\n",
       "      <td>-0.392232</td>\n",
       "      <td>-1.297771</td>\n",
       "      <td>1.224745</td>\n",
       "      <td>-0.944954</td>\n",
       "      <td>-0.805387</td>\n",
       "      <td>-0.805387</td>\n",
       "      <td>True</td>\n",
       "      <td>False</td>\n",
       "      <td>False</td>\n",
       "      <td>False</td>\n",
       "      <td>True</td>\n",
       "      <td>False</td>\n",
       "      <td>False</td>\n",
       "      <td>False</td>\n",
       "      <td>False</td>\n",
       "    </tr>\n",
       "    <tr>\n",
       "      <th>0</th>\n",
       "      <td>-0.980581</td>\n",
       "      <td>0.162221</td>\n",
       "      <td>0.000000</td>\n",
       "      <td>-0.438729</td>\n",
       "      <td>-0.604040</td>\n",
       "      <td>-0.604040</td>\n",
       "      <td>True</td>\n",
       "      <td>False</td>\n",
       "      <td>False</td>\n",
       "      <td>False</td>\n",
       "      <td>True</td>\n",
       "      <td>False</td>\n",
       "      <td>False</td>\n",
       "      <td>False</td>\n",
       "      <td>False</td>\n",
       "    </tr>\n",
       "    <tr>\n",
       "      <th>3</th>\n",
       "      <td>1.372813</td>\n",
       "      <td>1.135550</td>\n",
       "      <td>-1.224745</td>\n",
       "      <td>1.383683</td>\n",
       "      <td>1.409428</td>\n",
       "      <td>1.409428</td>\n",
       "      <td>False</td>\n",
       "      <td>True</td>\n",
       "      <td>False</td>\n",
       "      <td>False</td>\n",
       "      <td>False</td>\n",
       "      <td>False</td>\n",
       "      <td>True</td>\n",
       "      <td>False</td>\n",
       "      <td>False</td>\n",
       "    </tr>\n",
       "  </tbody>\n",
       "</table>\n",
       "</div>"
      ],
      "text/plain": [
       "   annual_income  employment_length  credit_score       age  debt_to_income  \\\n",
       "2      -0.392232          -1.297771      1.224745 -0.944954       -0.805387   \n",
       "0      -0.980581           0.162221      0.000000 -0.438729       -0.604040   \n",
       "3       1.372813           1.135550     -1.224745  1.383683        1.409428   \n",
       "\n",
       "    dti_pct  emp_bin_1-5  emp_bin_5-10  emp_bin_10-20  emp_bin_20+  \\\n",
       "2 -0.805387         True         False          False        False   \n",
       "0 -0.604040         True         False          False        False   \n",
       "3  1.409428        False          True          False        False   \n",
       "\n",
       "   age_bin_25-34  age_bin_35-44  age_bin_45-54  age_bin_55-64  age_bin_65+  \n",
       "2           True          False          False          False        False  \n",
       "0           True          False          False          False        False  \n",
       "3          False          False           True          False        False  "
      ]
     },
     "metadata": {},
     "output_type": "display_data"
    }
   ],
   "source": [
    "print(\"Train shape:\", x_train.shape)\n",
    "print(\"Test shape:\", x_test.shape)\n",
    "display(x_train.head())"
   ]
  }
 ],
 "metadata": {
  "kernelspec": {
   "display_name": "base",
   "language": "python",
   "name": "python3"
  },
  "language_info": {
   "codemirror_mode": {
    "name": "ipython",
    "version": 3
   },
   "file_extension": ".py",
   "mimetype": "text/x-python",
   "name": "python",
   "nbconvert_exporter": "python",
   "pygments_lexer": "ipython3",
   "version": "3.13.2"
  }
 },
 "nbformat": 4,
 "nbformat_minor": 5
}
