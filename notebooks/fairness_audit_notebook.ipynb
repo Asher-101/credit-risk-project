{
 "cells": [
  {
   "cell_type": "markdown",
   "id": "c49e71c2",
   "metadata": {},
   "source": [
    "\n",
    "# Fairness Audit Notebook\n"
   ]
  },
  {
   "cell_type": "markdown",
   "id": "c95e87b9",
   "metadata": {},
   "source": [
    "\n",
    "This notebook:\n",
    "- Loads and cleans borrower data\n",
    "- Trains (or loads) a credit-risk model\n",
    "- Computes baseline fairness metrics (Selection Rate, TPR, FPR)\n",
    "- Applies ExponentiatedGradient post-processing (Equalized Odds)\n",
    "- Visualizes results inline and saves plots\n",
    "- Exports report to PDF via `nbconvert`\n",
    "\n",
    "---\n"
   ]
  },
  {
   "cell_type": "markdown",
   "id": "29f40f44",
   "metadata": {},
   "source": [
    "## Setup and imports"
   ]
  },
  {
   "cell_type": "code",
   "execution_count": 38,
   "id": "04f35aa6",
   "metadata": {},
   "outputs": [],
   "source": [
    "%matplotlib inline\n",
    "import os\n",
    "import pandas as pd\n",
    "import numpy as np\n",
    "import joblib\n",
    "import matplotlib.pyplot as plt\n",
    "\n",
    "from fairlearn.metrics import MetricFrame, selection_rate, true_positive_rate, false_positive_rate\n",
    "from fairlearn.reductions import ExponentiatedGradient, EqualizedOdds\n",
    "\n",
    "from credit_risk.data_ingest import load_data, clean_data\n",
    "from credit_risk.features import generate_features\n",
    "\n",
    "from pathlib import Path\n",
    "\n",
    "# find project root by climbing up until README is found\n",
    "root = Path.cwd()\n",
    "while not (root / \"README.md\").exists():\n",
    "    root = root.parent\n",
    "os.chdir(root)               # now CWD is project root\n",
    "os.makedirs(\"reports\", exist_ok=True)"
   ]
  },
  {
   "cell_type": "markdown",
   "id": "f9ace9f9",
   "metadata": {},
   "source": [
    "## Load, clean, and feature-engineer data\n"
   ]
  },
  {
   "cell_type": "code",
   "execution_count": 39,
   "id": "93ab76a5",
   "metadata": {},
   "outputs": [
    {
     "name": "stdout",
     "output_type": "stream",
     "text": [
      "Loaded 5 rows and 6 columns from data/raw/borrowers.csv\n",
      "Dropped 0 duplicate rows\n",
      "Filled missing 'employment_length' with median=7.0\n",
      "Filled missing 'age' with median=45.0\n",
      "Filled missing 'annual_income' with median=60000.0\n",
      "Clipped 'debt_to_income' to [0,1]\n",
      "One-hot encoded columns: ['emp_bin', 'age_bin']\n",
      "Cleaned data has 5 rows and 16 columns\n",
      "Feature generation complete: 4 training samples, 1 test samples\n",
      "Stratification: on\n",
      "Loaded 5 rows -> 4 train, 1 test samples\n"
     ]
    },
    {
     "name": "stderr",
     "output_type": "stream",
     "text": [
      "/Users/glennasher/credit-risk-project/src/credit_risk/features.py:42: UserWarning: Stratified split failed (The test_size = 1 should be greater or equal to the number of classes = 2); falling back to unstratified split.\n",
      "  warnings.warn(\n"
     ]
    }
   ],
   "source": [
    "df_raw = load_data(\"data/raw/borrowers.csv\")\n",
    "df_clean = clean_data(df_raw)\n",
    "x_train, x_test, y_train, y_test = generate_features(df_clean)\n",
    "\n",
    "print(f\"Loaded {len(df_raw)} rows -> {len(x_train)} train, {len(x_test)} test samples\")"
   ]
  },
  {
   "cell_type": "markdown",
   "id": "fdc5b717",
   "metadata": {},
   "source": [
    "## Train or load model\n"
   ]
  },
  {
   "cell_type": "code",
   "execution_count": 40,
   "id": "5dda0d68",
   "metadata": {},
   "outputs": [
    {
     "name": "stdout",
     "output_type": "stream",
     "text": [
      "Model loaded from models/best_model.joblib\n"
     ]
    }
   ],
   "source": [
    "# Uncomment to retrain; otherwise it loads existing\n",
    "# from credit_risk.train_model import train_and_evaluate\n",
    "# model_path = train_and_evaluate(x_train, x_test, y_train, y_test)\n",
    "model_path = \"models/best_model.joblib\"\n",
    "model = joblib.load(model_path)\n",
    "print(f\"Model loaded from {model_path}\")"
   ]
  },
  {
   "cell_type": "markdown",
   "id": "1002dc94",
   "metadata": {},
   "source": [
    "## Helper: Compute & plot fairness metrics\n"
   ]
  },
  {
   "cell_type": "code",
   "execution_count": 41,
   "id": "1cd8bfb2",
   "metadata": {},
   "outputs": [],
   "source": [
    "def compute_fairness_metrics(y_true, y_pred, groups, name):\n",
    "    mf = MetricFrame(\n",
    "        metrics={\n",
    "            'Selection Rate': selection_rate,\n",
    "            'True Positive Rate': true_positive_rate,\n",
    "            'False Positive Rate': false_positive_rate\n",
    "        },\n",
    "        y_true=y_true,\n",
    "        y_pred=y_pred,\n",
    "        sensitive_features=groups\n",
    "    )\n",
    "    df = mf.by_group\n",
    "    df.index.name = name\n",
    "    return df\n",
    "\n",
    "\n",
    "def plot_and_save(df, path):\n",
    "    fig, axes = plt.subplots(1, df.shape[1], figsize=(5*df.shape[1], 4), sharey=True)\n",
    "    if df.shape[1] == 1:\n",
    "        axes = [axes]\n",
    "    for ax, col in zip(axes, df.columns):\n",
    "        df[col].plot(kind='bar', ax=ax, title=col)\n",
    "        ax.set_xlabel(df.index.name)\n",
    "        if ax is axes[0]:\n",
    "            ax.set_ylabel(col)\n",
    "        ax.tick_params(axis='x', rotation=45)\n",
    "    plt.tight_layout()\n",
    "    plt.savefig(path)\n",
    "    plt.show()\n",
    "    print(f\"Saved plot → {path}\")"
   ]
  },
  {
   "cell_type": "markdown",
   "id": "df9d6522",
   "metadata": {},
   "source": [
    "## Baseline fairness metrics"
   ]
  },
  {
   "cell_type": "code",
   "execution_count": 42,
   "id": "f2027066",
   "metadata": {},
   "outputs": [
    {
     "name": "stdout",
     "output_type": "stream",
     "text": [
      "           Selection Rate  True Positive Rate  False Positive Rate\n",
      "age_group                                                         \n",
      "35-44                 1.0                 1.0                  0.0\n"
     ]
    },
    {
     "data": {
      "image/png": "[encoded data removed]",
      "text/plain": [
       "<Figure size 1500x400 with 3 Axes>"
      ]
     },
     "metadata": {},
     "output_type": "display_data"
    },
    {
     "name": "stdout",
     "output_type": "stream",
     "text": [
      "Saved plot → reports/fairness_baseline.png\n"
     ]
    }
   ],
   "source": [
    "age_bins = [18,25,35,45,55,65,100]\n",
    "age_labels = ['18-24','25-34','35-44','45-54','55-64','65+']\n",
    "sens = pd.cut(df_clean['age'], bins=age_bins, labels=age_labels, include_lowest=True)\n",
    "sens_test = sens.loc[y_test.index].astype(str)\n",
    "\n",
    "y_pred = model.predict(x_test)\n",
    "fm_base = compute_fairness_metrics(y_test, y_pred, sens_test, 'age_group')\n",
    "print(fm_base)\n",
    "plot_and_save(fm_base, 'reports/fairness_baseline.png')"
   ]
  },
  {
   "cell_type": "markdown",
   "id": "9c1f0218",
   "metadata": {},
   "source": [
    "## Post-processing: ExponentiatedGradient (Equalized Odds)"
   ]
  },
  {
   "cell_type": "code",
   "execution_count": 43,
   "id": "b43a36db",
   "metadata": {},
   "outputs": [
    {
     "name": "stdout",
     "output_type": "stream",
     "text": [
      "           Selection Rate  True Positive Rate  False Positive Rate\n",
      "age_group                                                         \n",
      "35-44                 1.0                 1.0                  0.0\n"
     ]
    },
    {
     "data": {
      "image/png": "[encoded data removed]",
      "text/plain": [
       "<Figure size 1500x400 with 3 Axes>"
      ]
     },
     "metadata": {},
     "output_type": "display_data"
    },
    {
     "name": "stdout",
     "output_type": "stream",
     "text": [
      "Saved plot → reports/fairness_expgrad.png\n"
     ]
    }
   ],
   "source": [
    "def apply_expgrad(est, x_tr, y_tr, x_te, groups_tr):\n",
    "    mitigator = ExponentiatedGradient(\n",
    "        est, constraints=EqualizedOdds(), eps=0.01, max_iter=50, sample_weight_name=\"clf__sample_weight\"\n",
    "    )\n",
    "    mitigator.fit(x_tr, y_tr, sensitive_features=groups_tr)\n",
    "    return mitigator.predict(x_te)\n",
    "\n",
    "# track train grouping\n",
    "sens_train = sens.loc[y_train.index].astype(str)\n",
    "sens_test  = sens.loc[y_test.index].astype(str)\n",
    "\n",
    "# apply mitigator\n",
    "y_pred_opt = apply_expgrad(model, x_train, y_train, x_test, sens_train)\n",
    "fm_opt = compute_fairness_metrics(y_test, y_pred_opt, sens_test, 'age_group')\n",
    "print(fm_opt)\n",
    "plot_and_save(fm_opt, 'reports/fairness_expgrad.png')"
   ]
  }
 ],
 "metadata": {
  "kernelspec": {
   "display_name": ".venv",
   "language": "python",
   "name": "python3"
  },
  "language_info": {
   "codemirror_mode": {
    "name": "ipython",
    "version": 3
   },
   "file_extension": ".py",
   "mimetype": "text/x-python",
   "name": "python",
   "nbconvert_exporter": "python",
   "pygments_lexer": "ipython3",
   "version": "3.13.0"
  }
 },
 "nbformat": 4,
 "nbformat_minor": 5
}
